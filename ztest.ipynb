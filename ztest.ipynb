{
 "cells": [
  {
   "cell_type": "code",
   "execution_count": 2,
   "metadata": {},
   "outputs": [
    {
     "data": {
      "text/plain": [
       "0.6900000000000001"
      ]
     },
     "execution_count": 2,
     "metadata": {},
     "output_type": "execute_result"
    }
   ],
   "source": [
    "# 定义相机参数\n",
    "# sensor_width = 7.18  # 1/1.8\" sensor width in mm\n",
    "# sensor_height = 5.32  # 1/1.8\" sensor height in mm\n",
    "# resolution_width = 2048  # width in pixels\n",
    "# resolution_height = 1536  # height in pixels\n",
    "\n",
    "# 计算每个像素的物理尺寸\n",
    "# pixel_size_width = sensor_width / resolution_width\n",
    "# pixel_size_height = sensor_height / resolution_height\n",
    "# pixel_size = (pixel_size_width + pixel_size_height) / 2  # 取平均值作为像素尺寸\n",
    "\n",
    "# # 计算视差的不确定度 Δd（假设为一个像素）\n",
    "# delta_d = pixel_size\n",
    "delta_d = 3.45 * 1e-3\n",
    "\n",
    "Z = 800\n",
    "B =  200\n",
    "f = 16\n",
    "# 计算深度的不确定度 ΔZ\n",
    "delta_Z = (Z**2) / (B * f) * delta_d\n",
    "delta_Z\n"
   ]
  }
 ],
 "metadata": {
  "kernelspec": {
   "display_name": "nerfstudio",
   "language": "python",
   "name": "python3"
  },
  "language_info": {
   "codemirror_mode": {
    "name": "ipython",
    "version": 3
   },
   "file_extension": ".py",
   "mimetype": "text/x-python",
   "name": "python",
   "nbconvert_exporter": "python",
   "pygments_lexer": "ipython3",
   "version": "3.10.13"
  }
 },
 "nbformat": 4,
 "nbformat_minor": 2
}
