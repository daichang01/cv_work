{
 "cells": [
  {
   "cell_type": "code",
   "execution_count": 2,
   "metadata": {},
   "outputs": [
    {
     "data": {
      "image/png": "[encoded data removed]",
      "text/plain": [
       "<Figure size 640x480 with 1 Axes>"
      ]
     },
     "metadata": {},
     "output_type": "display_data"
    }
   ],
   "source": [
    "import matplotlib.pyplot as plt\n",
    "import numpy as np\n",
    "\n",
    "# 创建一个新的图形窗口\n",
    "plt.subplots()\n",
    "\n",
    "# 定义扇环的参数\n",
    "center = (0, 0)  # 扇环的中心坐标\n",
    "inner_radius = 3.082 # 内圆的半径\n",
    "outer_radius = 4.206# 外圆的半径\n",
    "start_angle = 0  # 起始角度（以度为单位）\n",
    "end_angle = 163.49 # 结束角度（以度为单位）\n",
    "\n",
    "# 创建扇环的路径\n",
    "theta = np.linspace(np.radians(start_angle), np.radians(end_angle), 100)\n",
    "x_inner = inner_radius * np.cos(theta) + center[0]\n",
    "y_inner = inner_radius * np.sin(theta) + center[1]\n",
    "x_outer = outer_radius * np.cos(theta) + center[0]\n",
    "y_outer = outer_radius * np.sin(theta) + center[1]\n",
    "\n",
    "# 绘制扇环的内圆和外圆\n",
    "plt.plot(x_inner, y_inner, color='b', linewidth=2, label='Inner Circle')\n",
    "plt.plot(x_outer, y_outer, color='r', linewidth=2, label='Outer Circle')\n",
    "\n",
    "# 填充扇形区域\n",
    "theta_fill = np.linspace(np.radians(start_angle), np.radians(end_angle), 100)\n",
    "x_fill = np.concatenate((inner_radius * np.cos(theta_fill), \n",
    "                         outer_radius * np.cos(theta_fill[::-1])))\n",
    "y_fill = np.concatenate((inner_radius * np.sin(theta_fill), \n",
    "                         outer_radius * np.sin(theta_fill[::-1])))\n",
    "plt.fill(x_fill, y_fill, color='gray', alpha=0.5, label='Sector Area')\n",
    "\n",
    "# # 设置绘图区域的范围\n",
    "plt.xlim(-6, 6)\n",
    "plt.ylim(0, 5)\n",
    "\n",
    "# 添加标题和标签\n",
    "# plt.title(\"Annular Sector\")\n",
    "# plt.xlabel(\"X-axis\")\n",
    "# plt.ylabel(\"Y-axis\")\n",
    "# plt.xticks([]),plt.yticks([]) # to hide values on x and y axis\n",
    "\n",
    "# 添加图例\n",
    "plt.legend()\n",
    "\n",
    "# 显示图形\n",
    "plt.gca().set_aspect('equal', adjustable='box')\n",
    "plt.grid()\n",
    "\n",
    "# 保存图像为文件（可以选择不同的文件格式，如PNG、JPEG等）\n",
    "plt.savefig('my_plot.png', dpi=300, bbox_inches='tight')  # 设置DPI并保存图像\n",
    "\n",
    "plt.show()"
   ]
  },
  {
   "cell_type": "code",
   "execution_count": 2,
   "metadata": {},
   "outputs": [],
   "source": [
    "import cv2\n",
    "import numpy as np\n",
    "\n",
    "# 创建一张A4纸大小的空白图像，通常使用300 DPI分辨率\n",
    "width, height = int(21000), int(29700)  # 将英寸转换为像素\n",
    "a4_paper = np.ones((height, width, 3), np.uint8) * 255  # 创建一个白色背景图像\n",
    "\n",
    "# 导入自定义大小的图像并调整大小以适应A4纸\n",
    "image = cv2.imread('my_plot.png')  # 替换为您的图像文件路径\n",
    "\n",
    "# 计算目标尺寸\n",
    "target_width = int(1673)\n",
    "target_height = int(992)\n",
    "\n",
    "# 检查目标尺寸是否合法\n",
    "if target_width > 0 and target_height > 0:\n",
    "    image = cv2.resize(image, (target_width, target_height))\n",
    "\n",
    "    # 在A4背景图像上绘制导入的图像，放置在A4中央\n",
    "    x_offset = (a4_paper.shape[1] - image.shape[1]) // 2\n",
    "    y_offset = (a4_paper.shape[0] - image.shape[0]) // 2\n",
    "    a4_paper[y_offset:y_offset + image.shape[0], x_offset:x_offset + image.shape[1]] = image\n",
    "\n",
    "    \n",
    "    # 保存生成的图像\n",
    "    cv2.imwrite('output_image.png', a4_paper)\n",
    "else:\n",
    "    print(\"目标尺寸无效\")"
   ]
  },
  {
   "cell_type": "markdown",
   "metadata": {},
   "source": [
    "只用opencv"
   ]
  },
  {
   "cell_type": "code",
   "execution_count": 1,
   "metadata": {},
   "outputs": [
    {
     "data": {
      "text/plain": [
       "True"
      ]
     },
     "execution_count": 1,
     "metadata": {},
     "output_type": "execute_result"
    }
   ],
   "source": [
    "import numpy as np\n",
    "import cv2\n",
    "\n",
    "# 创建一个空白图像，例如 500x500 像素的白色图像\n",
    "width, height = int(21000), int(29700)\n",
    "image = np.ones((height, width, 3), dtype=np.uint8)*255\n",
    "\n",
    "# 定义扇形的参数\n",
    "center = (5000, 0)  # 扇形的中心坐标\n",
    "in_radius = 3082 #内圆半径\n",
    "radius = 4206  # 扇形的半径\n",
    "start_angle = 0  # 扇形的起始角度（度数）\n",
    "end_angle = 163.49  # 扇形的终止角度（度数）\n",
    "color = (0, 255, 0)  # 扇形的颜色，这里是绿色\n",
    "inner_color = (255,0,0)\n",
    "thickness = -1  # 填充扇形，使用负数线宽值\n",
    "\n",
    "# 使用OpenCV的绘图函数绘制扇形\n",
    "cv2.ellipse(image, center, (radius, radius), 0, start_angle, end_angle, color, thickness)\n",
    "cv2.ellipse(image, center, (in_radius, in_radius), 0, start_angle, end_angle, inner_color, thickness)\n",
    "\n",
    "\n",
    "# 保存绘制好的图像\n",
    "cv2.imwrite('sector.png', image)\n",
    "\n",
    "# # 显示图像\n",
    "# cv2.imshow('Sector', image)\n",
    "# cv2.waitKey(0)\n",
    "# cv2.destroyAllWindows()\n"
   ]
  },
  {
   "cell_type": "code",
   "execution_count": 7,
   "metadata": {},
   "outputs": [
    {
     "name": "stderr",
     "output_type": "stream",
     "text": [
      "<>:4: SyntaxWarning: 'list' object is not callable; perhaps you missed a comma?\n",
      "<>:4: SyntaxWarning: 'list' object is not callable; perhaps you missed a comma?\n",
      "C:\\Users\\daichang\\AppData\\Local\\Temp\\ipykernel_23100\\2068076129.py:4: SyntaxWarning: 'list' object is not callable; perhaps you missed a comma?\n",
      "  img = [cv.imread]('my_plot.png')\n"
     ]
    },
    {
     "ename": "TypeError",
     "evalue": "'list' object is not callable",
     "output_type": "error",
     "traceback": [
      "\u001b[1;31m---------------------------------------------------------------------------\u001b[0m",
      "\u001b[1;31mTypeError\u001b[0m                                 Traceback (most recent call last)",
      "Cell \u001b[1;32mIn[7], line 4\u001b[0m\n\u001b[0;32m      1\u001b[0m \u001b[39mimport\u001b[39;00m \u001b[39mnumpy\u001b[39;00m \u001b[39mas\u001b[39;00m \u001b[39mnp\u001b[39;00m\n\u001b[0;32m      2\u001b[0m \u001b[39mimport\u001b[39;00m \u001b[39mcv2\u001b[39;00m \u001b[39mas\u001b[39;00m \u001b[39mcv\u001b[39;00m\n\u001b[1;32m----> 4\u001b[0m img \u001b[39m=\u001b[39m [cv\u001b[39m.\u001b[39;49mimread](\u001b[39m'\u001b[39;49m\u001b[39mmy_plot.png\u001b[39;49m\u001b[39m'\u001b[39;49m)\n",
      "\u001b[1;31mTypeError\u001b[0m: 'list' object is not callable"
     ]
    }
   ],
   "source": [
    "import numpy as np\n",
    "import cv2 as cv\n",
    "\n",
    "img = [cv.imread]()"
   ]
  }
 ],
 "metadata": {
  "kernelspec": {
   "display_name": "daicAi",
   "language": "python",
   "name": "python3"
  },
  "language_info": {
   "codemirror_mode": {
    "name": "ipython",
    "version": 3
   },
   "file_extension": ".py",
   "mimetype": "text/x-python",
   "name": "python",
   "nbconvert_exporter": "python",
   "pygments_lexer": "ipython3",
   "version": "3.11.4"
  },
  "orig_nbformat": 4
 },
 "nbformat": 4,
 "nbformat_minor": 2
}
